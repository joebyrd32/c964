{
 "cells": [
  {
   "cell_type": "markdown",
   "id": "a2ba9977-f524-46c9-b995-66d58e1ebcbe",
   "metadata": {
    "id": "a2ba9977-f524-46c9-b995-66d58e1ebcbe"
   },
   "source": [
    "**To begin with we install our yfinance library and import some other libraries to help us out**"
   ]
  },
  {
   "cell_type": "code",
   "execution_count": 4,
   "id": "e0e811a9-fbb6-4326-8c8a-5ff7be504e0a",
   "metadata": {
    "colab": {
     "base_uri": "https://localhost:8080/"
    },
    "id": "e0e811a9-fbb6-4326-8c8a-5ff7be504e0a",
    "outputId": "18dbe2a3-ed85-4dcd-a96f-3a906be3d00a"
   },
   "outputs": [
    {
     "name": "stdout",
     "output_type": "stream",
     "text": [
      "Requirement already satisfied: yfinance in c:\\users\\joe_b\\anaconda3\\lib\\site-packages (0.1.63)\n",
      "Requirement already satisfied: multitasking>=0.0.7 in c:\\users\\joe_b\\anaconda3\\lib\\site-packages (from yfinance) (0.0.9)\n",
      "Requirement already satisfied: requests>=2.20 in c:\\users\\joe_b\\anaconda3\\lib\\site-packages (from yfinance) (2.25.1)\n",
      "Requirement already satisfied: lxml>=4.5.1 in c:\\users\\joe_b\\anaconda3\\lib\\site-packages (from yfinance) (4.6.3)\n",
      "Requirement already satisfied: numpy>=1.15 in c:\\users\\joe_b\\anaconda3\\lib\\site-packages (from yfinance) (1.19.5)\n",
      "Requirement already satisfied: pandas>=0.24 in c:\\users\\joe_b\\anaconda3\\lib\\site-packages (from yfinance) (1.2.4)\n",
      "Requirement already satisfied: pytz>=2017.3 in c:\\users\\joe_b\\anaconda3\\lib\\site-packages (from pandas>=0.24->yfinance) (2021.1)\n",
      "Requirement already satisfied: python-dateutil>=2.7.3 in c:\\users\\joe_b\\anaconda3\\lib\\site-packages (from pandas>=0.24->yfinance) (2.8.1)\n",
      "Requirement already satisfied: six>=1.5 in c:\\users\\joe_b\\anaconda3\\lib\\site-packages (from python-dateutil>=2.7.3->pandas>=0.24->yfinance) (1.15.0)\n",
      "Requirement already satisfied: certifi>=2017.4.17 in c:\\users\\joe_b\\anaconda3\\lib\\site-packages (from requests>=2.20->yfinance) (2020.12.5)\n",
      "Requirement already satisfied: chardet<5,>=3.0.2 in c:\\users\\joe_b\\anaconda3\\lib\\site-packages (from requests>=2.20->yfinance) (4.0.0)\n",
      "Requirement already satisfied: idna<3,>=2.5 in c:\\users\\joe_b\\anaconda3\\lib\\site-packages (from requests>=2.20->yfinance) (2.10)\n",
      "Requirement already satisfied: urllib3<1.27,>=1.21.1 in c:\\users\\joe_b\\anaconda3\\lib\\site-packages (from requests>=2.20->yfinance) (1.26.4)\n",
      "Requirement already satisfied: ipywidgets in c:\\users\\joe_b\\anaconda3\\lib\\site-packages (7.6.3)\n",
      "Requirement already satisfied: ipython>=4.0.0 in c:\\users\\joe_b\\anaconda3\\lib\\site-packages (from ipywidgets) (7.22.0)\n",
      "Requirement already satisfied: nbformat>=4.2.0 in c:\\users\\joe_b\\anaconda3\\lib\\site-packages (from ipywidgets) (5.1.3)\n",
      "Requirement already satisfied: traitlets>=4.3.1 in c:\\users\\joe_b\\anaconda3\\lib\\site-packages (from ipywidgets) (5.0.5)\n",
      "Requirement already satisfied: widgetsnbextension~=3.5.0 in c:\\users\\joe_b\\anaconda3\\lib\\site-packages (from ipywidgets) (3.5.1)\n",
      "Requirement already satisfied: jupyterlab-widgets>=1.0.0 in c:\\users\\joe_b\\anaconda3\\lib\\site-packages (from ipywidgets) (1.0.0)\n",
      "Requirement already satisfied: ipykernel>=4.5.1 in c:\\users\\joe_b\\anaconda3\\lib\\site-packages (from ipywidgets) (5.3.4)\n",
      "Requirement already satisfied: jupyter-client in c:\\users\\joe_b\\anaconda3\\lib\\site-packages (from ipykernel>=4.5.1->ipywidgets) (6.1.12)\n",
      "Requirement already satisfied: tornado>=4.2 in c:\\users\\joe_b\\anaconda3\\lib\\site-packages (from ipykernel>=4.5.1->ipywidgets) (6.1)\n",
      "Requirement already satisfied: prompt-toolkit!=3.0.0,!=3.0.1,<3.1.0,>=2.0.0 in c:\\users\\joe_b\\anaconda3\\lib\\site-packages (from ipython>=4.0.0->ipywidgets) (3.0.17)\n",
      "Requirement already satisfied: backcall in c:\\users\\joe_b\\anaconda3\\lib\\site-packages (from ipython>=4.0.0->ipywidgets) (0.2.0)\n",
      "Requirement already satisfied: colorama in c:\\users\\joe_b\\anaconda3\\lib\\site-packages (from ipython>=4.0.0->ipywidgets) (0.4.4)\n",
      "Requirement already satisfied: pickleshare in c:\\users\\joe_b\\anaconda3\\lib\\site-packages (from ipython>=4.0.0->ipywidgets) (0.7.5)\n",
      "Requirement already satisfied: jedi>=0.16 in c:\\users\\joe_b\\anaconda3\\lib\\site-packages (from ipython>=4.0.0->ipywidgets) (0.17.2)\n",
      "Requirement already satisfied: setuptools>=18.5 in c:\\users\\joe_b\\anaconda3\\lib\\site-packages (from ipython>=4.0.0->ipywidgets) (52.0.0.post20210125)\n",
      "Requirement already satisfied: decorator in c:\\users\\joe_b\\anaconda3\\lib\\site-packages (from ipython>=4.0.0->ipywidgets) (5.0.6)\n",
      "Requirement already satisfied: pygments in c:\\users\\joe_b\\anaconda3\\lib\\site-packages (from ipython>=4.0.0->ipywidgets) (2.8.1)\n",
      "Requirement already satisfied: parso<0.8.0,>=0.7.0 in c:\\users\\joe_b\\anaconda3\\lib\\site-packages (from jedi>=0.16->ipython>=4.0.0->ipywidgets) (0.7.0)\n",
      "Requirement already satisfied: ipython-genutils in c:\\users\\joe_b\\anaconda3\\lib\\site-packages (from nbformat>=4.2.0->ipywidgets) (0.2.0)\n",
      "Requirement already satisfied: jsonschema!=2.5.0,>=2.4 in c:\\users\\joe_b\\anaconda3\\lib\\site-packages (from nbformat>=4.2.0->ipywidgets) (3.2.0)\n",
      "Requirement already satisfied: jupyter-core in c:\\users\\joe_b\\anaconda3\\lib\\site-packages (from nbformat>=4.2.0->ipywidgets) (4.7.1)\n",
      "Requirement already satisfied: six>=1.11.0 in c:\\users\\joe_b\\anaconda3\\lib\\site-packages (from jsonschema!=2.5.0,>=2.4->nbformat>=4.2.0->ipywidgets) (1.15.0)\n",
      "Requirement already satisfied: attrs>=17.4.0 in c:\\users\\joe_b\\anaconda3\\lib\\site-packages (from jsonschema!=2.5.0,>=2.4->nbformat>=4.2.0->ipywidgets) (20.3.0)\n",
      "Requirement already satisfied: pyrsistent>=0.14.0 in c:\\users\\joe_b\\anaconda3\\lib\\site-packages (from jsonschema!=2.5.0,>=2.4->nbformat>=4.2.0->ipywidgets) (0.17.3)\n",
      "Requirement already satisfied: wcwidth in c:\\users\\joe_b\\anaconda3\\lib\\site-packages (from prompt-toolkit!=3.0.0,!=3.0.1,<3.1.0,>=2.0.0->ipython>=4.0.0->ipywidgets) (0.2.5)\n",
      "Requirement already satisfied: notebook>=4.4.1 in c:\\users\\joe_b\\anaconda3\\lib\\site-packages (from widgetsnbextension~=3.5.0->ipywidgets) (6.3.0)\n",
      "Requirement already satisfied: Send2Trash>=1.5.0 in c:\\users\\joe_b\\anaconda3\\lib\\site-packages (from notebook>=4.4.1->widgetsnbextension~=3.5.0->ipywidgets) (1.5.0)\n",
      "Requirement already satisfied: prometheus-client in c:\\users\\joe_b\\anaconda3\\lib\\site-packages (from notebook>=4.4.1->widgetsnbextension~=3.5.0->ipywidgets) (0.10.1)\n",
      "Requirement already satisfied: terminado>=0.8.3 in c:\\users\\joe_b\\anaconda3\\lib\\site-packages (from notebook>=4.4.1->widgetsnbextension~=3.5.0->ipywidgets) (0.9.4)\n",
      "Requirement already satisfied: nbconvert in c:\\users\\joe_b\\anaconda3\\lib\\site-packages (from notebook>=4.4.1->widgetsnbextension~=3.5.0->ipywidgets) (6.0.7)\n",
      "Requirement already satisfied: jinja2 in c:\\users\\joe_b\\anaconda3\\lib\\site-packages (from notebook>=4.4.1->widgetsnbextension~=3.5.0->ipywidgets) (2.11.3)\n",
      "Requirement already satisfied: pyzmq>=17 in c:\\users\\joe_b\\anaconda3\\lib\\site-packages (from notebook>=4.4.1->widgetsnbextension~=3.5.0->ipywidgets) (20.0.0)\n",
      "Requirement already satisfied: argon2-cffi in c:\\users\\joe_b\\anaconda3\\lib\\site-packages (from notebook>=4.4.1->widgetsnbextension~=3.5.0->ipywidgets) (20.1.0)\n",
      "Requirement already satisfied: python-dateutil>=2.1 in c:\\users\\joe_b\\anaconda3\\lib\\site-packages (from jupyter-client->ipykernel>=4.5.1->ipywidgets) (2.8.1)\n",
      "Requirement already satisfied: pywin32>=1.0 in c:\\users\\joe_b\\anaconda3\\lib\\site-packages (from jupyter-core->nbformat>=4.2.0->ipywidgets) (227)\n",
      "Requirement already satisfied: pywinpty>=0.5 in c:\\users\\joe_b\\anaconda3\\lib\\site-packages (from terminado>=0.8.3->notebook>=4.4.1->widgetsnbextension~=3.5.0->ipywidgets) (0.5.7)\n",
      "Requirement already satisfied: cffi>=1.0.0 in c:\\users\\joe_b\\anaconda3\\lib\\site-packages (from argon2-cffi->notebook>=4.4.1->widgetsnbextension~=3.5.0->ipywidgets) (1.14.5)\n",
      "Requirement already satisfied: pycparser in c:\\users\\joe_b\\anaconda3\\lib\\site-packages (from cffi>=1.0.0->argon2-cffi->notebook>=4.4.1->widgetsnbextension~=3.5.0->ipywidgets) (2.20)\n",
      "Requirement already satisfied: MarkupSafe>=0.23 in c:\\users\\joe_b\\anaconda3\\lib\\site-packages (from jinja2->notebook>=4.4.1->widgetsnbextension~=3.5.0->ipywidgets) (1.1.1)\n",
      "Requirement already satisfied: defusedxml in c:\\users\\joe_b\\anaconda3\\lib\\site-packages (from nbconvert->notebook>=4.4.1->widgetsnbextension~=3.5.0->ipywidgets) (0.7.1)\n",
      "Requirement already satisfied: mistune<2,>=0.8.1 in c:\\users\\joe_b\\anaconda3\\lib\\site-packages (from nbconvert->notebook>=4.4.1->widgetsnbextension~=3.5.0->ipywidgets) (0.8.4)\n",
      "Requirement already satisfied: pandocfilters>=1.4.1 in c:\\users\\joe_b\\anaconda3\\lib\\site-packages (from nbconvert->notebook>=4.4.1->widgetsnbextension~=3.5.0->ipywidgets) (1.4.3)\n",
      "Requirement already satisfied: bleach in c:\\users\\joe_b\\anaconda3\\lib\\site-packages (from nbconvert->notebook>=4.4.1->widgetsnbextension~=3.5.0->ipywidgets) (3.3.0)\n",
      "Requirement already satisfied: nbclient<0.6.0,>=0.5.0 in c:\\users\\joe_b\\anaconda3\\lib\\site-packages (from nbconvert->notebook>=4.4.1->widgetsnbextension~=3.5.0->ipywidgets) (0.5.3)\n",
      "Requirement already satisfied: entrypoints>=0.2.2 in c:\\users\\joe_b\\anaconda3\\lib\\site-packages (from nbconvert->notebook>=4.4.1->widgetsnbextension~=3.5.0->ipywidgets) (0.3)\n",
      "Requirement already satisfied: testpath in c:\\users\\joe_b\\anaconda3\\lib\\site-packages (from nbconvert->notebook>=4.4.1->widgetsnbextension~=3.5.0->ipywidgets) (0.4.4)\n",
      "Requirement already satisfied: jupyterlab-pygments in c:\\users\\joe_b\\anaconda3\\lib\\site-packages (from nbconvert->notebook>=4.4.1->widgetsnbextension~=3.5.0->ipywidgets) (0.1.2)\n",
      "Requirement already satisfied: async-generator in c:\\users\\joe_b\\anaconda3\\lib\\site-packages (from nbclient<0.6.0,>=0.5.0->nbconvert->notebook>=4.4.1->widgetsnbextension~=3.5.0->ipywidgets) (1.10)\n",
      "Requirement already satisfied: nest-asyncio in c:\\users\\joe_b\\anaconda3\\lib\\site-packages (from nbclient<0.6.0,>=0.5.0->nbconvert->notebook>=4.4.1->widgetsnbextension~=3.5.0->ipywidgets) (1.5.1)\n",
      "Requirement already satisfied: packaging in c:\\users\\joe_b\\anaconda3\\lib\\site-packages (from bleach->nbconvert->notebook>=4.4.1->widgetsnbextension~=3.5.0->ipywidgets) (20.9)\n",
      "Requirement already satisfied: webencodings in c:\\users\\joe_b\\anaconda3\\lib\\site-packages (from bleach->nbconvert->notebook>=4.4.1->widgetsnbextension~=3.5.0->ipywidgets) (0.5.1)\n",
      "Requirement already satisfied: pyparsing>=2.0.2 in c:\\users\\joe_b\\anaconda3\\lib\\site-packages (from packaging->bleach->nbconvert->notebook>=4.4.1->widgetsnbextension~=3.5.0->ipywidgets) (2.4.7)\n"
     ]
    },
    {
     "name": "stdout",
     "output_type": "stream",
     "text": [
      "Requirement already satisfied: voila in c:\\users\\joe_b\\anaconda3\\lib\\site-packages (0.2.16)\n",
      "Requirement already satisfied: nbclient<0.6,>=0.4.0 in c:\\users\\joe_b\\anaconda3\\lib\\site-packages (from voila) (0.5.3)\n",
      "Requirement already satisfied: jupyter-server<2.0.0,>=0.3.0 in c:\\users\\joe_b\\anaconda3\\lib\\site-packages (from voila) (1.4.1)\n",
      "Requirement already satisfied: jupyter-client<7,>=6.1.3 in c:\\users\\joe_b\\anaconda3\\lib\\site-packages (from voila) (6.1.12)\n",
      "Requirement already satisfied: nbconvert<7,>=6.0.0 in c:\\users\\joe_b\\anaconda3\\lib\\site-packages (from voila) (6.0.7)\n",
      "Requirement already satisfied: tornado>=4.1 in c:\\users\\joe_b\\anaconda3\\lib\\site-packages (from jupyter-client<7,>=6.1.3->voila) (6.1)\n",
      "Requirement already satisfied: pyzmq>=13 in c:\\users\\joe_b\\anaconda3\\lib\\site-packages (from jupyter-client<7,>=6.1.3->voila) (20.0.0)\n",
      "Requirement already satisfied: jupyter-core>=4.6.0 in c:\\users\\joe_b\\anaconda3\\lib\\site-packages (from jupyter-client<7,>=6.1.3->voila) (4.7.1)\n",
      "Requirement already satisfied: python-dateutil>=2.1 in c:\\users\\joe_b\\anaconda3\\lib\\site-packages (from jupyter-client<7,>=6.1.3->voila) (2.8.1)\n",
      "Requirement already satisfied: traitlets in c:\\users\\joe_b\\anaconda3\\lib\\site-packages (from jupyter-client<7,>=6.1.3->voila) (5.0.5)\n",
      "Requirement already satisfied: pywin32>=1.0 in c:\\users\\joe_b\\anaconda3\\lib\\site-packages (from jupyter-core>=4.6.0->jupyter-client<7,>=6.1.3->voila) (227)\n",
      "Requirement already satisfied: ipython-genutils in c:\\users\\joe_b\\anaconda3\\lib\\site-packages (from jupyter-server<2.0.0,>=0.3.0->voila) (0.2.0)\n",
      "Requirement already satisfied: jinja2 in c:\\users\\joe_b\\anaconda3\\lib\\site-packages (from jupyter-server<2.0.0,>=0.3.0->voila) (2.11.3)\n",
      "Requirement already satisfied: terminado>=0.8.3 in c:\\users\\joe_b\\anaconda3\\lib\\site-packages (from jupyter-server<2.0.0,>=0.3.0->voila) (0.9.4)\n",
      "Requirement already satisfied: prometheus-client in c:\\users\\joe_b\\anaconda3\\lib\\site-packages (from jupyter-server<2.0.0,>=0.3.0->voila) (0.10.1)\n",
      "Requirement already satisfied: anyio>=2.0.2 in c:\\users\\joe_b\\anaconda3\\lib\\site-packages (from jupyter-server<2.0.0,>=0.3.0->voila) (2.2.0)\n",
      "Requirement already satisfied: nbformat in c:\\users\\joe_b\\anaconda3\\lib\\site-packages (from jupyter-server<2.0.0,>=0.3.0->voila) (5.1.3)\n",
      "Requirement already satisfied: Send2Trash in c:\\users\\joe_b\\anaconda3\\lib\\site-packages (from jupyter-server<2.0.0,>=0.3.0->voila) (1.5.0)\n",
      "Requirement already satisfied: idna>=2.8 in c:\\users\\joe_b\\anaconda3\\lib\\site-packages (from anyio>=2.0.2->jupyter-server<2.0.0,>=0.3.0->voila) (2.10)\n",
      "Requirement already satisfied: sniffio>=1.1 in c:\\users\\joe_b\\anaconda3\\lib\\site-packages (from anyio>=2.0.2->jupyter-server<2.0.0,>=0.3.0->voila) (1.2.0)\n",
      "Requirement already satisfied: nest-asyncio in c:\\users\\joe_b\\anaconda3\\lib\\site-packages (from nbclient<0.6,>=0.4.0->voila) (1.5.1)\n",
      "Requirement already satisfied: async-generator in c:\\users\\joe_b\\anaconda3\\lib\\site-packages (from nbclient<0.6,>=0.4.0->voila) (1.10)\n",
      "Requirement already satisfied: entrypoints>=0.2.2 in c:\\users\\joe_b\\anaconda3\\lib\\site-packages (from nbconvert<7,>=6.0.0->voila) (0.3)\n",
      "Requirement already satisfied: testpath in c:\\users\\joe_b\\anaconda3\\lib\\site-packages (from nbconvert<7,>=6.0.0->voila) (0.4.4)\n",
      "Requirement already satisfied: pygments>=2.4.1 in c:\\users\\joe_b\\anaconda3\\lib\\site-packages (from nbconvert<7,>=6.0.0->voila) (2.8.1)\n",
      "Requirement already satisfied: bleach in c:\\users\\joe_b\\anaconda3\\lib\\site-packages (from nbconvert<7,>=6.0.0->voila) (3.3.0)\n",
      "Requirement already satisfied: mistune<2,>=0.8.1 in c:\\users\\joe_b\\anaconda3\\lib\\site-packages (from nbconvert<7,>=6.0.0->voila) (0.8.4)\n",
      "Requirement already satisfied: pandocfilters>=1.4.1 in c:\\users\\joe_b\\anaconda3\\lib\\site-packages (from nbconvert<7,>=6.0.0->voila) (1.4.3)\n",
      "Requirement already satisfied: jupyterlab-pygments in c:\\users\\joe_b\\anaconda3\\lib\\site-packages (from nbconvert<7,>=6.0.0->voila) (0.1.2)\n",
      "Requirement already satisfied: defusedxml in c:\\users\\joe_b\\anaconda3\\lib\\site-packages (from nbconvert<7,>=6.0.0->voila) (0.7.1)\n",
      "Requirement already satisfied: MarkupSafe>=0.23 in c:\\users\\joe_b\\anaconda3\\lib\\site-packages (from jinja2->jupyter-server<2.0.0,>=0.3.0->voila) (1.1.1)\n",
      "Requirement already satisfied: jsonschema!=2.5.0,>=2.4 in c:\\users\\joe_b\\anaconda3\\lib\\site-packages (from nbformat->jupyter-server<2.0.0,>=0.3.0->voila) (3.2.0)\n",
      "Requirement already satisfied: six>=1.11.0 in c:\\users\\joe_b\\anaconda3\\lib\\site-packages (from jsonschema!=2.5.0,>=2.4->nbformat->jupyter-server<2.0.0,>=0.3.0->voila) (1.15.0)\n",
      "Requirement already satisfied: pyrsistent>=0.14.0 in c:\\users\\joe_b\\anaconda3\\lib\\site-packages (from jsonschema!=2.5.0,>=2.4->nbformat->jupyter-server<2.0.0,>=0.3.0->voila) (0.17.3)\n",
      "Requirement already satisfied: attrs>=17.4.0 in c:\\users\\joe_b\\anaconda3\\lib\\site-packages (from jsonschema!=2.5.0,>=2.4->nbformat->jupyter-server<2.0.0,>=0.3.0->voila) (20.3.0)\n",
      "Requirement already satisfied: setuptools in c:\\users\\joe_b\\anaconda3\\lib\\site-packages (from jsonschema!=2.5.0,>=2.4->nbformat->jupyter-server<2.0.0,>=0.3.0->voila) (52.0.0.post20210125)\n",
      "Requirement already satisfied: pywinpty>=0.5 in c:\\users\\joe_b\\anaconda3\\lib\\site-packages (from terminado>=0.8.3->jupyter-server<2.0.0,>=0.3.0->voila) (0.5.7)\n",
      "Requirement already satisfied: webencodings in c:\\users\\joe_b\\anaconda3\\lib\\site-packages (from bleach->nbconvert<7,>=6.0.0->voila) (0.5.1)\n",
      "Requirement already satisfied: packaging in c:\\users\\joe_b\\anaconda3\\lib\\site-packages (from bleach->nbconvert<7,>=6.0.0->voila) (20.9)\n",
      "Requirement already satisfied: pyparsing>=2.0.2 in c:\\users\\joe_b\\anaconda3\\lib\\site-packages (from packaging->bleach->nbconvert<7,>=6.0.0->voila) (2.4.7)\n",
      "Requirement already satisfied: keras in c:\\users\\joe_b\\anaconda3\\lib\\site-packages (2.6.0)\n",
      "Collecting tensorflow\n",
      "  Using cached tensorflow-2.6.0-cp38-cp38-win_amd64.whl (423.2 MB)\n",
      "Collecting absl-py~=0.10\n",
      "  Using cached absl_py-0.15.0-py3-none-any.whl (132 kB)\n",
      "Requirement already satisfied: protobuf>=3.9.2 in c:\\users\\joe_b\\anaconda3\\lib\\site-packages (from tensorflow) (3.19.0)\n",
      "Collecting flatbuffers~=1.12.0\n",
      "  Using cached flatbuffers-1.12-py2.py3-none-any.whl (15 kB)\n",
      "Requirement already satisfied: numpy~=1.19.2 in c:\\users\\joe_b\\anaconda3\\lib\\site-packages (from tensorflow) (1.19.5)\n",
      "Collecting clang~=5.0\n",
      "  Using cached clang-5.0-py3-none-any.whl\n",
      "Collecting h5py~=3.1.0\n",
      "  Using cached h5py-3.1.0-cp38-cp38-win_amd64.whl (2.7 MB)\n",
      "Collecting tensorboard~=2.6\n",
      "  Using cached tensorboard-2.7.0-py3-none-any.whl (5.8 MB)\n",
      "Collecting keras-preprocessing~=1.1.2\n",
      "  Using cached Keras_Preprocessing-1.1.2-py2.py3-none-any.whl (42 kB)\n",
      "Collecting google-pasta~=0.2\n",
      "  Using cached google_pasta-0.2.0-py3-none-any.whl (57 kB)\n",
      "Collecting astunparse~=1.6.3\n",
      "  Using cached astunparse-1.6.3-py2.py3-none-any.whl (12 kB)\n",
      "Collecting gast==0.4.0\n",
      "  Using cached gast-0.4.0-py3-none-any.whl (9.8 kB)\n",
      "Collecting grpcio<2.0,>=1.37.0\n",
      "  Using cached grpcio-1.41.0-cp38-cp38-win_amd64.whl (3.2 MB)\n",
      "Collecting opt-einsum~=3.3.0\n",
      "  Using cached opt_einsum-3.3.0-py3-none-any.whl (65 kB)\n",
      "Requirement already satisfied: typing-extensions~=3.7.4 in c:\\users\\joe_b\\anaconda3\\lib\\site-packages (from tensorflow) (3.7.4.3)\n",
      "Requirement already satisfied: six~=1.15.0 in c:\\users\\joe_b\\anaconda3\\lib\\site-packages (from tensorflow) (1.15.0)\n",
      "Requirement already satisfied: wrapt~=1.12.1 in c:\\users\\joe_b\\anaconda3\\lib\\site-packages (from tensorflow) (1.12.1)\n",
      "Requirement already satisfied: keras~=2.6 in c:\\users\\joe_b\\anaconda3\\lib\\site-packages (from tensorflow) (2.6.0)\n",
      "Requirement already satisfied: wheel~=0.35 in c:\\users\\joe_b\\anaconda3\\lib\\site-packages (from tensorflow) (0.36.2)\n",
      "Collecting termcolor~=1.1.0\n",
      "  Using cached termcolor-1.1.0-py3-none-any.whl\n",
      "Collecting tensorflow-estimator~=2.6\n",
      "  Using cached tensorflow_estimator-2.6.0-py2.py3-none-any.whl (462 kB)\n",
      "Requirement already satisfied: tensorboard-data-server<0.7.0,>=0.6.0 in c:\\users\\joe_b\\anaconda3\\lib\\site-packages (from tensorboard~=2.6->tensorflow) (0.6.1)\n",
      "Collecting google-auth-oauthlib<0.5,>=0.4.1\n",
      "  Using cached google_auth_oauthlib-0.4.6-py2.py3-none-any.whl (18 kB)\n",
      "Requirement already satisfied: tensorboard-plugin-wit>=1.6.0 in c:\\users\\joe_b\\anaconda3\\lib\\site-packages (from tensorboard~=2.6->tensorflow) (1.8.0)\n",
      "Requirement already satisfied: requests<3,>=2.21.0 in c:\\users\\joe_b\\anaconda3\\lib\\site-packages (from tensorboard~=2.6->tensorflow) (2.25.1)\n",
      "Requirement already satisfied: setuptools>=41.0.0 in c:\\users\\joe_b\\anaconda3\\lib\\site-packages (from tensorboard~=2.6->tensorflow) (52.0.0.post20210125)\n",
      "Collecting markdown>=2.6.8\n",
      "  Using cached Markdown-3.3.4-py3-none-any.whl (97 kB)\n",
      "Requirement already satisfied: google-auth<3,>=1.6.3 in c:\\users\\joe_b\\anaconda3\\lib\\site-packages (from tensorboard~=2.6->tensorflow) (2.3.1)\n",
      "Requirement already satisfied: werkzeug>=0.11.15 in c:\\users\\joe_b\\anaconda3\\lib\\site-packages (from tensorboard~=2.6->tensorflow) (1.0.1)\n",
      "Requirement already satisfied: cachetools<5.0,>=2.0.0 in c:\\users\\joe_b\\anaconda3\\lib\\site-packages (from google-auth<3,>=1.6.3->tensorboard~=2.6->tensorflow) (4.2.4)\n",
      "Requirement already satisfied: pyasn1-modules>=0.2.1 in c:\\users\\joe_b\\anaconda3\\lib\\site-packages (from google-auth<3,>=1.6.3->tensorboard~=2.6->tensorflow) (0.2.8)\n",
      "Requirement already satisfied: rsa<5,>=3.1.4 in c:\\users\\joe_b\\anaconda3\\lib\\site-packages (from google-auth<3,>=1.6.3->tensorboard~=2.6->tensorflow) (4.7.2)\n",
      "Requirement already satisfied: requests-oauthlib>=0.7.0 in c:\\users\\joe_b\\anaconda3\\lib\\site-packages (from google-auth-oauthlib<0.5,>=0.4.1->tensorboard~=2.6->tensorflow) (1.3.0)\n",
      "Requirement already satisfied: pyasn1<0.5.0,>=0.4.6 in c:\\users\\joe_b\\anaconda3\\lib\\site-packages (from pyasn1-modules>=0.2.1->google-auth<3,>=1.6.3->tensorboard~=2.6->tensorflow) (0.4.8)\n",
      "Requirement already satisfied: idna<3,>=2.5 in c:\\users\\joe_b\\anaconda3\\lib\\site-packages (from requests<3,>=2.21.0->tensorboard~=2.6->tensorflow) (2.10)\n",
      "Requirement already satisfied: certifi>=2017.4.17 in c:\\users\\joe_b\\anaconda3\\lib\\site-packages (from requests<3,>=2.21.0->tensorboard~=2.6->tensorflow) (2020.12.5)\n",
      "Requirement already satisfied: chardet<5,>=3.0.2 in c:\\users\\joe_b\\anaconda3\\lib\\site-packages (from requests<3,>=2.21.0->tensorboard~=2.6->tensorflow) (4.0.0)\n",
      "Requirement already satisfied: urllib3<1.27,>=1.21.1 in c:\\users\\joe_b\\anaconda3\\lib\\site-packages (from requests<3,>=2.21.0->tensorboard~=2.6->tensorflow) (1.26.4)\n",
      "Requirement already satisfied: oauthlib>=3.0.0 in c:\\users\\joe_b\\anaconda3\\lib\\site-packages (from requests-oauthlib>=0.7.0->google-auth-oauthlib<0.5,>=0.4.1->tensorboard~=2.6->tensorflow) (3.1.1)\n",
      "Installing collected packages: markdown, grpcio, google-auth-oauthlib, absl-py, termcolor, tensorflow-estimator, tensorboard, opt-einsum, keras-preprocessing, h5py, google-pasta, gast, flatbuffers, clang, astunparse, tensorflow\n",
      "  Attempting uninstall: h5py\n",
      "    Found existing installation: h5py 2.10.0\n",
      "    Uninstalling h5py-2.10.0:\n",
      "      Successfully uninstalled h5py-2.10.0\n",
      "Successfully installed absl-py-0.15.0 astunparse-1.6.3 clang-5.0 flatbuffers-1.12 gast-0.4.0 google-auth-oauthlib-0.4.6 google-pasta-0.2.0 grpcio-1.41.0 h5py-3.1.0 keras-preprocessing-1.1.2 markdown-3.3.4 opt-einsum-3.3.0 tensorboard-2.7.0 tensorflow-2.6.0 tensorflow-estimator-2.6.0 termcolor-1.1.0\n"
     ]
    },
    {
     "name": "stdout",
     "output_type": "stream",
     "text": [
      "Requirement already satisfied: ipywidgets in c:\\users\\joe_b\\anaconda3\\lib\\site-packages (7.6.3)\n",
      "Requirement already satisfied: jupyterlab-widgets>=1.0.0 in c:\\users\\joe_b\\anaconda3\\lib\\site-packages (from ipywidgets) (1.0.0)\n",
      "Requirement already satisfied: traitlets>=4.3.1 in c:\\users\\joe_b\\anaconda3\\lib\\site-packages (from ipywidgets) (5.0.5)\n",
      "Requirement already satisfied: ipykernel>=4.5.1 in c:\\users\\joe_b\\anaconda3\\lib\\site-packages (from ipywidgets) (5.3.4)\n",
      "Requirement already satisfied: nbformat>=4.2.0 in c:\\users\\joe_b\\anaconda3\\lib\\site-packages (from ipywidgets) (5.1.3)\n",
      "Requirement already satisfied: widgetsnbextension~=3.5.0 in c:\\users\\joe_b\\anaconda3\\lib\\site-packages (from ipywidgets) (3.5.1)\n",
      "Requirement already satisfied: ipython>=4.0.0 in c:\\users\\joe_b\\anaconda3\\lib\\site-packages (from ipywidgets) (7.22.0)\n",
      "Requirement already satisfied: tornado>=4.2 in c:\\users\\joe_b\\anaconda3\\lib\\site-packages (from ipykernel>=4.5.1->ipywidgets) (6.1)\n",
      "Requirement already satisfied: jupyter-client in c:\\users\\joe_b\\anaconda3\\lib\\site-packages (from ipykernel>=4.5.1->ipywidgets) (6.1.12)\n",
      "Requirement already satisfied: pickleshare in c:\\users\\joe_b\\anaconda3\\lib\\site-packages (from ipython>=4.0.0->ipywidgets) (0.7.5)\n",
      "Requirement already satisfied: prompt-toolkit!=3.0.0,!=3.0.1,<3.1.0,>=2.0.0 in c:\\users\\joe_b\\anaconda3\\lib\\site-packages (from ipython>=4.0.0->ipywidgets) (3.0.17)\n",
      "Requirement already satisfied: setuptools>=18.5 in c:\\users\\joe_b\\anaconda3\\lib\\site-packages (from ipython>=4.0.0->ipywidgets) (52.0.0.post20210125)\n",
      "Requirement already satisfied: pygments in c:\\users\\joe_b\\anaconda3\\lib\\site-packages (from ipython>=4.0.0->ipywidgets) (2.8.1)\n",
      "Requirement already satisfied: decorator in c:\\users\\joe_b\\anaconda3\\lib\\site-packages (from ipython>=4.0.0->ipywidgets) (5.0.6)\n",
      "Requirement already satisfied: colorama in c:\\users\\joe_b\\anaconda3\\lib\\site-packages (from ipython>=4.0.0->ipywidgets) (0.4.4)\n",
      "Requirement already satisfied: backcall in c:\\users\\joe_b\\anaconda3\\lib\\site-packages (from ipython>=4.0.0->ipywidgets) (0.2.0)\n",
      "Requirement already satisfied: jedi>=0.16 in c:\\users\\joe_b\\anaconda3\\lib\\site-packages (from ipython>=4.0.0->ipywidgets) (0.17.2)\n",
      "Requirement already satisfied: parso<0.8.0,>=0.7.0 in c:\\users\\joe_b\\anaconda3\\lib\\site-packages (from jedi>=0.16->ipython>=4.0.0->ipywidgets) (0.7.0)\n",
      "Requirement already satisfied: ipython-genutils in c:\\users\\joe_b\\anaconda3\\lib\\site-packages (from nbformat>=4.2.0->ipywidgets) (0.2.0)\n",
      "Requirement already satisfied: jsonschema!=2.5.0,>=2.4 in c:\\users\\joe_b\\anaconda3\\lib\\site-packages (from nbformat>=4.2.0->ipywidgets) (3.2.0)\n",
      "Requirement already satisfied: jupyter-core in c:\\users\\joe_b\\anaconda3\\lib\\site-packages (from nbformat>=4.2.0->ipywidgets) (4.7.1)\n",
      "Requirement already satisfied: pyrsistent>=0.14.0 in c:\\users\\joe_b\\anaconda3\\lib\\site-packages (from jsonschema!=2.5.0,>=2.4->nbformat>=4.2.0->ipywidgets) (0.17.3)\n",
      "Requirement already satisfied: attrs>=17.4.0 in c:\\users\\joe_b\\anaconda3\\lib\\site-packages (from jsonschema!=2.5.0,>=2.4->nbformat>=4.2.0->ipywidgets) (20.3.0)\n",
      "Requirement already satisfied: six>=1.11.0 in c:\\users\\joe_b\\anaconda3\\lib\\site-packages (from jsonschema!=2.5.0,>=2.4->nbformat>=4.2.0->ipywidgets) (1.15.0)\n",
      "Requirement already satisfied: wcwidth in c:\\users\\joe_b\\anaconda3\\lib\\site-packages (from prompt-toolkit!=3.0.0,!=3.0.1,<3.1.0,>=2.0.0->ipython>=4.0.0->ipywidgets) (0.2.5)\n",
      "Requirement already satisfied: notebook>=4.4.1 in c:\\users\\joe_b\\anaconda3\\lib\\site-packages (from widgetsnbextension~=3.5.0->ipywidgets) (6.3.0)\n",
      "Requirement already satisfied: nbconvert in c:\\users\\joe_b\\anaconda3\\lib\\site-packages (from notebook>=4.4.1->widgetsnbextension~=3.5.0->ipywidgets) (6.0.7)\n",
      "Requirement already satisfied: terminado>=0.8.3 in c:\\users\\joe_b\\anaconda3\\lib\\site-packages (from notebook>=4.4.1->widgetsnbextension~=3.5.0->ipywidgets) (0.9.4)\n",
      "Requirement already satisfied: pyzmq>=17 in c:\\users\\joe_b\\anaconda3\\lib\\site-packages (from notebook>=4.4.1->widgetsnbextension~=3.5.0->ipywidgets) (20.0.0)\n",
      "Requirement already satisfied: Send2Trash>=1.5.0 in c:\\users\\joe_b\\anaconda3\\lib\\site-packages (from notebook>=4.4.1->widgetsnbextension~=3.5.0->ipywidgets) (1.5.0)\n",
      "Requirement already satisfied: prometheus-client in c:\\users\\joe_b\\anaconda3\\lib\\site-packages (from notebook>=4.4.1->widgetsnbextension~=3.5.0->ipywidgets) (0.10.1)\n",
      "Requirement already satisfied: jinja2 in c:\\users\\joe_b\\anaconda3\\lib\\site-packages (from notebook>=4.4.1->widgetsnbextension~=3.5.0->ipywidgets) (2.11.3)\n",
      "Requirement already satisfied: argon2-cffi in c:\\users\\joe_b\\anaconda3\\lib\\site-packages (from notebook>=4.4.1->widgetsnbextension~=3.5.0->ipywidgets) (20.1.0)\n",
      "Requirement already satisfied: python-dateutil>=2.1 in c:\\users\\joe_b\\anaconda3\\lib\\site-packages (from jupyter-client->ipykernel>=4.5.1->ipywidgets) (2.8.1)\n",
      "Requirement already satisfied: pywin32>=1.0 in c:\\users\\joe_b\\anaconda3\\lib\\site-packages (from jupyter-core->nbformat>=4.2.0->ipywidgets) (227)\n",
      "Requirement already satisfied: pywinpty>=0.5 in c:\\users\\joe_b\\anaconda3\\lib\\site-packages (from terminado>=0.8.3->notebook>=4.4.1->widgetsnbextension~=3.5.0->ipywidgets) (0.5.7)\n",
      "Requirement already satisfied: cffi>=1.0.0 in c:\\users\\joe_b\\anaconda3\\lib\\site-packages (from argon2-cffi->notebook>=4.4.1->widgetsnbextension~=3.5.0->ipywidgets) (1.14.5)\n",
      "Requirement already satisfied: pycparser in c:\\users\\joe_b\\anaconda3\\lib\\site-packages (from cffi>=1.0.0->argon2-cffi->notebook>=4.4.1->widgetsnbextension~=3.5.0->ipywidgets) (2.20)\n",
      "Requirement already satisfied: MarkupSafe>=0.23 in c:\\users\\joe_b\\anaconda3\\lib\\site-packages (from jinja2->notebook>=4.4.1->widgetsnbextension~=3.5.0->ipywidgets) (1.1.1)\n",
      "Requirement already satisfied: mistune<2,>=0.8.1 in c:\\users\\joe_b\\anaconda3\\lib\\site-packages (from nbconvert->notebook>=4.4.1->widgetsnbextension~=3.5.0->ipywidgets) (0.8.4)\n",
      "Requirement already satisfied: bleach in c:\\users\\joe_b\\anaconda3\\lib\\site-packages (from nbconvert->notebook>=4.4.1->widgetsnbextension~=3.5.0->ipywidgets) (3.3.0)\n",
      "Requirement already satisfied: testpath in c:\\users\\joe_b\\anaconda3\\lib\\site-packages (from nbconvert->notebook>=4.4.1->widgetsnbextension~=3.5.0->ipywidgets) (0.4.4)\n",
      "Requirement already satisfied: nbclient<0.6.0,>=0.5.0 in c:\\users\\joe_b\\anaconda3\\lib\\site-packages (from nbconvert->notebook>=4.4.1->widgetsnbextension~=3.5.0->ipywidgets) (0.5.3)\n",
      "Requirement already satisfied: jupyterlab-pygments in c:\\users\\joe_b\\anaconda3\\lib\\site-packages (from nbconvert->notebook>=4.4.1->widgetsnbextension~=3.5.0->ipywidgets) (0.1.2)\n",
      "Requirement already satisfied: defusedxml in c:\\users\\joe_b\\anaconda3\\lib\\site-packages (from nbconvert->notebook>=4.4.1->widgetsnbextension~=3.5.0->ipywidgets) (0.7.1)\n",
      "Requirement already satisfied: pandocfilters>=1.4.1 in c:\\users\\joe_b\\anaconda3\\lib\\site-packages (from nbconvert->notebook>=4.4.1->widgetsnbextension~=3.5.0->ipywidgets) (1.4.3)\n",
      "Requirement already satisfied: entrypoints>=0.2.2 in c:\\users\\joe_b\\anaconda3\\lib\\site-packages (from nbconvert->notebook>=4.4.1->widgetsnbextension~=3.5.0->ipywidgets) (0.3)\n",
      "Requirement already satisfied: nest-asyncio in c:\\users\\joe_b\\anaconda3\\lib\\site-packages (from nbclient<0.6.0,>=0.5.0->nbconvert->notebook>=4.4.1->widgetsnbextension~=3.5.0->ipywidgets) (1.5.1)\n",
      "Requirement already satisfied: async-generator in c:\\users\\joe_b\\anaconda3\\lib\\site-packages (from nbclient<0.6.0,>=0.5.0->nbconvert->notebook>=4.4.1->widgetsnbextension~=3.5.0->ipywidgets) (1.10)\n",
      "Requirement already satisfied: packaging in c:\\users\\joe_b\\anaconda3\\lib\\site-packages (from bleach->nbconvert->notebook>=4.4.1->widgetsnbextension~=3.5.0->ipywidgets) (20.9)\n",
      "Requirement already satisfied: webencodings in c:\\users\\joe_b\\anaconda3\\lib\\site-packages (from bleach->nbconvert->notebook>=4.4.1->widgetsnbextension~=3.5.0->ipywidgets) (0.5.1)\n",
      "Requirement already satisfied: pyparsing>=2.0.2 in c:\\users\\joe_b\\anaconda3\\lib\\site-packages (from packaging->bleach->nbconvert->notebook>=4.4.1->widgetsnbextension~=3.5.0->ipywidgets) (2.4.7)\n"
     ]
    }
   ],
   "source": [
    "!pip install yfinance\n",
    "!pip install ipywidgets\n",
    "!pip install voila\n",
    "!pip install keras\n",
    "!pip install tensorflow\n",
    "!pip install ipywidgets\n",
    "import yfinance as yf\n",
    "import matplotlib.pyplot as plt\n",
    "import pandas as pd\n",
    "import math\n",
    "import numpy as np\n",
    "from sklearn.preprocessing import MinMaxScaler\n",
    "from keras.models import Sequential\n",
    "from keras.layers import Dense, LSTM, Dropout\n",
    "from ipywidgets import interact, interactive, fixed, interact_manual\n",
    "import ipywidgets as widgets\n",
    "from datetime import date\n",
    "from datetime import timedelta"
   ]
  },
  {
   "cell_type": "markdown",
   "id": "509a9475-3357-4c69-a346-01fc8fb38613",
   "metadata": {
    "id": "509a9475-3357-4c69-a346-01fc8fb38613"
   },
   "source": [
    "**Next we're going to download the historic data for SPY. You can change the beginning year using the slider**"
   ]
  },
  {
   "cell_type": "code",
   "execution_count": 5,
   "id": "RPF0bRCPYmsF",
   "metadata": {
    "colab": {
     "base_uri": "https://localhost:8080/",
     "height": 49,
     "referenced_widgets": [
      "4440b0f08d4140dc8f18b6a0c2665b42",
      "d2581158f9234959a52ef883768b7359",
      "18d2b4f775124753ad209f409acf7487"
     ]
    },
    "id": "RPF0bRCPYmsF",
    "outputId": "2a9fc515-e396-4104-d1be-ddeb7a00de6b"
   },
   "outputs": [
    {
     "data": {
      "application/vnd.jupyter.widget-view+json": {
       "model_id": "778b915adbfc49efbe672a59a0798b4d",
       "version_major": 2,
       "version_minor": 0
      },
      "text/plain": [
       "IntSlider(value=2010, max=2020, min=2000)"
      ]
     },
     "metadata": {},
     "output_type": "display_data"
    }
   ],
   "source": [
    "\n",
    "slider=widgets.IntSlider(min=2000, max=2020, step=1, value = 2010)\n",
    "display(slider)"
   ]
  },
  {
   "cell_type": "code",
   "execution_count": 6,
   "id": "4c0bedde-c96d-40b1-bd1e-ff424e57238b",
   "metadata": {
    "id": "4c0bedde-c96d-40b1-bd1e-ff424e57238b"
   },
   "outputs": [],
   "source": [
    "sp5 = yf.Ticker(\"SPY\")\n",
    "history = sp5.history(start=str(slider.value) + \"-01-01\", end = date.today().strftime(\"%Y-%m-%d\"))#end=\"2021-01-01\")\n"
   ]
  },
  {
   "cell_type": "markdown",
   "id": "uN3fwrkevkWn",
   "metadata": {
    "id": "uN3fwrkevkWn"
   },
   "source": [
    "**Here is a histogram of the full dataset.**"
   ]
  },
  {
   "cell_type": "code",
   "execution_count": 7,
   "id": "6zss__d_NgEO",
   "metadata": {
    "colab": {
     "base_uri": "https://localhost:8080/",
     "height": 548
    },
    "id": "6zss__d_NgEO",
    "outputId": "90611695-16f1-44f1-8f39-81a5df983041"
   },
   "outputs": [
    {
     "name": "stdout",
     "output_type": "stream",
     "text": [
      "<class 'pandas.core.series.Series'>\n"
     ]
    },
    {
     "data": {
      "text/plain": [
       "<AxesSubplot:xlabel='Date'>"
      ]
     },
     "execution_count": 7,
     "metadata": {},
     "output_type": "execute_result"
    },
    {
     "data": {
      "image/png": "[encoded data removed]",
      "text/plain": [
       "<Figure size 1152x648 with 1 Axes>"
      ]
     },
     "metadata": {
      "needs_background": "light"
     },
     "output_type": "display_data"
    }
   ],
   "source": [
    "data = history['Close']\n",
    "print(type(data))\n",
    "data.plot(figsize=(16,9))"
   ]
  },
  {
   "cell_type": "markdown",
   "id": "18g_3joFvu5t",
   "metadata": {
    "id": "18g_3joFvu5t"
   },
   "source": [
    "**Next we'll clean the data then we'll extract the training data.**"
   ]
  },
  {
   "cell_type": "code",
   "execution_count": 8,
   "id": "xCZDVtgeNoxf",
   "metadata": {
    "colab": {
     "base_uri": "https://localhost:8080/"
    },
    "id": "xCZDVtgeNoxf",
    "outputId": "3f5737fb-4a40-46ea-ff6f-4337e93bdba6"
   },
   "outputs": [
    {
     "data": {
      "text/plain": [
       "2379"
      ]
     },
     "execution_count": 8,
     "metadata": {},
     "output_type": "execute_result"
    }
   ],
   "source": [
    "data = history.filter(['Close'])\n",
    "dataset = data.values\n",
    "training_data_len = math.ceil(len(dataset) *.8)\n",
    "\n",
    "training_data_len "
   ]
  },
  {
   "cell_type": "markdown",
   "id": "ZH0b_f9zwJN1",
   "metadata": {
    "id": "ZH0b_f9zwJN1"
   },
   "source": [
    "**Here we're going to scale the data to be between 0 and 1. This works beter when training the model.**"
   ]
  },
  {
   "cell_type": "code",
   "execution_count": 9,
   "id": "DIDC3d4_N_Yp",
   "metadata": {
    "colab": {
     "base_uri": "https://localhost:8080/"
    },
    "id": "DIDC3d4_N_Yp",
    "outputId": "ec11e119-b0be-4acb-cec9-75a13172f3db"
   },
   "outputs": [
    {
     "data": {
      "text/plain": [
       "array([[0.02189736],\n",
       "       [0.02254015],\n",
       "       [0.02271146],\n",
       "       ...,\n",
       "       [0.99682388],\n",
       "       [1.        ],\n",
       "       [0.99873492]])"
      ]
     },
     "execution_count": 9,
     "metadata": {},
     "output_type": "execute_result"
    }
   ],
   "source": [
    "scaler = MinMaxScaler(feature_range = (0,1))\n",
    "scaled_data = scaler.fit_transform(dataset)\n",
    "scaled_data"
   ]
  },
  {
   "cell_type": "markdown",
   "id": "WgY9oOL6wUiJ",
   "metadata": {
    "id": "WgY9oOL6wUiJ"
   },
   "source": [
    "**Here we're going goin to put the data into sets for the training model. Below is an example of a training set.**"
   ]
  },
  {
   "cell_type": "code",
   "execution_count": 10,
   "id": "Iy5Zx17pMHqu",
   "metadata": {
    "colab": {
     "base_uri": "https://localhost:8080/",
     "height": 49,
     "referenced_widgets": [
      "1d8880abfe4f46d488bf8988a180d369",
      "084577c5bbc54c8ca7928338fbb965f1",
      "6465513cb79d46ef80efb59a1a223421"
     ]
    },
    "id": "Iy5Zx17pMHqu",
    "outputId": "e733d05b-2e9a-46af-f941-275948966377"
   },
   "outputs": [
    {
     "data": {
      "application/vnd.jupyter.widget-view+json": {
       "model_id": "27f2307f46244479866a30f0d72bebf1",
       "version_major": 2,
       "version_minor": 0
      },
      "text/plain": [
       "IntSlider(value=10, max=120, min=10, step=10)"
      ]
     },
     "metadata": {},
     "output_type": "display_data"
    }
   ],
   "source": [
    "slider_training_len=widgets.IntSlider(min=10, max=120, step=10, value = 10)\n",
    "display(slider_training_len)"
   ]
  },
  {
   "cell_type": "code",
   "execution_count": 11,
   "id": "XXMkRnhOOdCl",
   "metadata": {
    "colab": {
     "base_uri": "https://localhost:8080/"
    },
    "id": "XXMkRnhOOdCl",
    "outputId": "ac486a6a-66d6-4f22-a9b1-a014a29a5039"
   },
   "outputs": [
    {
     "name": "stdout",
     "output_type": "stream",
     "text": [
      "10\n",
      "2379\n",
      "[array([0.02189736, 0.02254015, 0.02271146, 0.02373988, 0.02455397,\n",
      "       0.02489671, 0.0226044 , 0.02466111, 0.02532525, 0.02256153])]\n",
      "[0.02560379406006763]\n",
      "\n"
     ]
    }
   ],
   "source": [
    "train_data = scaled_data[0: training_data_len, :]\n",
    "x_train = []\n",
    "y_train = []\n",
    "input_data_length = slider_training_len.value\n",
    "print(input_data_length)\n",
    "print(len(train_data))\n",
    "for i in range(input_data_length, len(train_data)):\n",
    "  x_train.append(train_data[i-input_data_length:i, 0])\n",
    "  y_train.append(train_data[i,0])\n",
    "  if i <= input_data_length:\n",
    "    print(x_train)\n",
    "    print(y_train)\n",
    "    print()"
   ]
  },
  {
   "cell_type": "markdown",
   "id": "bc9ab066-d15c-4ca6-a76c-aa26f8cc14db",
   "metadata": {
    "id": "bc9ab066-d15c-4ca6-a76c-aa26f8cc14db"
   },
   "source": []
  },
  {
   "cell_type": "markdown",
   "id": "xsZ63yuY01O9",
   "metadata": {
    "id": "xsZ63yuY01O9"
   },
   "source": [
    "**Here we change the input data to numpy arrays and change the x training data to a 3 dimentional array for the training model.**"
   ]
  },
  {
   "cell_type": "code",
   "execution_count": 12,
   "id": "c11ca1d5-2f43-4afb-9651-dbd847c65ad6",
   "metadata": {
    "id": "c11ca1d5-2f43-4afb-9651-dbd847c65ad6"
   },
   "outputs": [],
   "source": [
    "x_train, y_train = np.array(x_train), np.array(y_train)\n",
    "x_train = np.reshape(x_train, (x_train.shape[0],x_train.shape[1],1))\n"
   ]
  },
  {
   "cell_type": "markdown",
   "id": "dQwo0RC51H30",
   "metadata": {
    "id": "dQwo0RC51H30"
   },
   "source": [
    "**This is where we initialize the model.**"
   ]
  },
  {
   "cell_type": "code",
   "execution_count": 13,
   "id": "xbiGGnEhQjln",
   "metadata": {
    "id": "xbiGGnEhQjln"
   },
   "outputs": [],
   "source": [
    "model = Sequential()\n",
    "model.add(LSTM(64, return_sequences=True, input_shape=(x_train.shape[1],1)))\n",
    "#model.add(Dropout(.3))\n",
    "model.add(LSTM(64, return_sequences=False))\n",
    "#model.add(Dropout(.3))\n",
    "model.add(Dense(32))\n",
    "model.add(Dense(1))\n",
    "model.compile(optimizer='adam', loss='mean_squared_error')"
   ]
  },
  {
   "cell_type": "markdown",
   "id": "dZ1QsUpe1R6R",
   "metadata": {
    "id": "dZ1QsUpe1R6R"
   },
   "source": [
    "**Here we're going to train the model. This may take a few minutes.**"
   ]
  },
  {
   "cell_type": "code",
   "execution_count": 14,
   "id": "fqt_OwvpRQPN",
   "metadata": {
    "colab": {
     "base_uri": "https://localhost:8080/"
    },
    "id": "fqt_OwvpRQPN",
    "outputId": "270ba3a8-3842-4b92-c669-4f46739961fa"
   },
   "outputs": [
    {
     "name": "stdout",
     "output_type": "stream",
     "text": [
      "Epoch 1/5\n",
      "38/38 [==============================] - 2s 6ms/step - loss: 0.0102\n",
      "Epoch 2/5\n",
      "38/38 [==============================] - 0s 5ms/step - loss: 2.1908e-04\n",
      "Epoch 3/5\n",
      "38/38 [==============================] - 0s 5ms/step - loss: 7.3890e-05\n",
      "Epoch 4/5\n",
      "38/38 [==============================] - 0s 5ms/step - loss: 6.6316e-05\n",
      "Epoch 5/5\n",
      "38/38 [==============================] - 0s 5ms/step - loss: 6.5887e-05\n"
     ]
    },
    {
     "data": {
      "text/plain": [
       "<keras.callbacks.History at 0x2715bcd2cd0>"
      ]
     },
     "execution_count": 14,
     "metadata": {},
     "output_type": "execute_result"
    }
   ],
   "source": [
    "model.fit(x_train,y_train,batch_size=64, epochs=5)"
   ]
  },
  {
   "cell_type": "markdown",
   "id": "oOA37YvQDnrS",
   "metadata": {
    "id": "oOA37YvQDnrS"
   },
   "source": [
    "**Here we build the dataset that we're going to make our predictions off of.**"
   ]
  },
  {
   "cell_type": "code",
   "execution_count": 15,
   "id": "B8-BfFUKybz8",
   "metadata": {
    "id": "B8-BfFUKybz8"
   },
   "outputs": [],
   "source": [
    "test_data = scaled_data[training_data_len-input_data_length: , :]\n",
    "x_test = []\n",
    "y_test = dataset[training_data_len: , : ]\n",
    "for i in range(input_data_length,len(test_data)):\n",
    "  x_test.append(test_data[i-input_data_length:i,0])"
   ]
  },
  {
   "cell_type": "markdown",
   "id": "vMSb1pD5EYP8",
   "metadata": {
    "id": "vMSb1pD5EYP8"
   },
   "source": [
    "**Next we reshape the data so that it can be input into the model**"
   ]
  },
  {
   "cell_type": "code",
   "execution_count": 16,
   "id": "qiXa-q7dzU2p",
   "metadata": {
    "id": "qiXa-q7dzU2p"
   },
   "outputs": [],
   "source": [
    "x_test = np.array(x_test)\n",
    "x_test = np.reshape(x_test, (x_test.shape[0], x_test.shape[1], 1))"
   ]
  },
  {
   "cell_type": "markdown",
   "id": "WVWUNyfqEhKE",
   "metadata": {
    "id": "WVWUNyfqEhKE"
   },
   "source": [
    "**And Finally we make our predictions**"
   ]
  },
  {
   "cell_type": "code",
   "execution_count": 17,
   "id": "torDki29zuvj",
   "metadata": {
    "colab": {
     "base_uri": "https://localhost:8080/",
     "height": 730
    },
    "id": "torDki29zuvj",
    "outputId": "4d88805c-dba1-4221-8435-b0fd58a65a1f"
   },
   "outputs": [
    {
     "data": {
      "image/png": "[encoded data removed]",
      "text/plain": [
       "<Figure size 1440x864 with 1 Axes>"
      ]
     },
     "metadata": {
      "needs_background": "light"
     },
     "output_type": "display_data"
    }
   ],
   "source": [
    "predictions = model.predict(x_test)\n",
    "x = ['0-0.5%', '0.5-1%', '1-2%', '2-3%', '3-5%', '>5%']\n",
    "percentage = [0,0,0,0,0,0]\n",
    "for i in range(input_data_length,len(test_data)):\n",
    "  if np.absolute(predictions[i - input_data_length]-test_data[i]) / test_data[i] * 100 < .5:\n",
    "    percentage[0] += 1\n",
    "  elif np.absolute(predictions[i - input_data_length]-test_data[i]) / test_data[i] * 100 < 1:\n",
    "    percentage[1] += 1\n",
    "  elif np.absolute(predictions[i - input_data_length]-test_data[i]) / test_data[i] * 100 < 2:\n",
    "    percentage[2] += 1\n",
    "  elif np.absolute(predictions[i - input_data_length]-test_data[i]) / test_data[i] * 100 < 3:\n",
    "    percentage[3] += 1\n",
    "  elif np.absolute(predictions[i - input_data_length]-test_data[i]) / test_data[i] * 100 < 5:\n",
    "    percentage[4] += 1\n",
    "  else:\n",
    "    percentage[5] += 1\n",
    "#print(percentage)\n",
    "predictions = scaler.inverse_transform(predictions)\n",
    "#print(predictions)\n",
    "\n",
    "plt.figure(figsize=(20,12))\n",
    "plt.bar(x, percentage)\n",
    "plt.xlabel('Percent Error')\n",
    "plt.ylabel('Predictions')\n",
    "plt.title('Number of predictions by percent error')\n",
    "\n",
    "plt.show()\n"
   ]
  },
  {
   "cell_type": "markdown",
   "id": "r55Ov166Et_z",
   "metadata": {
    "id": "r55Ov166Et_z"
   },
   "source": [
    "**Here we check the acurracy using Root Mean Square Error**"
   ]
  },
  {
   "cell_type": "code",
   "execution_count": 18,
   "id": "dhCpJLsI0LJl",
   "metadata": {
    "colab": {
     "base_uri": "https://localhost:8080/"
    },
    "id": "dhCpJLsI0LJl",
    "outputId": "b4ad1cac-a572-4c3d-e137-33d46687bd6a"
   },
   "outputs": [
    {
     "data": {
      "text/plain": [
       "0.5240189523407908"
      ]
     },
     "execution_count": 18,
     "metadata": {},
     "output_type": "execute_result"
    }
   ],
   "source": [
    "rmse = np.sqrt(np.mean(predictions - y_test) **2)\n",
    "rmse"
   ]
  },
  {
   "cell_type": "code",
   "execution_count": null,
   "id": "NPJdN-I0gqwR",
   "metadata": {
    "id": "NPJdN-I0gqwR"
   },
   "outputs": [],
   "source": []
  },
  {
   "cell_type": "markdown",
   "id": "jmO5ujWrFG74",
   "metadata": {
    "id": "jmO5ujWrFG74"
   },
   "source": [
    "**Here is a graph showing the predictions**"
   ]
  },
  {
   "cell_type": "code",
   "execution_count": 19,
   "id": "2JBv1fjH1CDu",
   "metadata": {
    "colab": {
     "base_uri": "https://localhost:8080/",
     "height": 835
    },
    "id": "2JBv1fjH1CDu",
    "outputId": "acbfd311-4eb8-44a0-9110-525308c5e8c1"
   },
   "outputs": [
    {
     "name": "stderr",
     "output_type": "stream",
     "text": [
      "<ipython-input-19-30ec5f968291>:3: SettingWithCopyWarning: \n",
      "A value is trying to be set on a copy of a slice from a DataFrame.\n",
      "Try using .loc[row_indexer,col_indexer] = value instead\n",
      "\n",
      "See the caveats in the documentation: https://pandas.pydata.org/pandas-docs/stable/user_guide/indexing.html#returning-a-view-versus-a-copy\n",
      "  valid['Predictions'] = predictions\n"
     ]
    },
    {
     "data": {
      "text/plain": [
       "<matplotlib.legend.Legend at 0x271545bf7f0>"
      ]
     },
     "execution_count": 19,
     "metadata": {},
     "output_type": "execute_result"
    },
    {
     "data": {
      "image/png": "[encoded data removed]",
      "text/plain": [
       "<Figure size 1440x864 with 1 Axes>"
      ]
     },
     "metadata": {
      "needs_background": "light"
     },
     "output_type": "display_data"
    }
   ],
   "source": [
    "train = data[:training_data_len]\n",
    "valid = data[training_data_len:]\n",
    "valid['Predictions'] = predictions\n",
    "plt.figure(figsize=(20,12))\n",
    "plt.title('model')\n",
    "plt.xlabel('')\n",
    "plt.ylabel('')\n",
    "#plt.plot(train['Close'])\n",
    "plt.plot(valid[['Close', 'Predictions']])\n",
    "plt.legend(['Testing', 'Predictions'])"
   ]
  },
  {
   "cell_type": "markdown",
   "id": "geizgGv0Mqfa",
   "metadata": {
    "id": "geizgGv0Mqfa"
   },
   "source": [
    "**Here we will atempt to predict prices for 5 days after the specified date**"
   ]
  },
  {
   "cell_type": "code",
   "execution_count": 20,
   "id": "Qx-xYkzf8D52",
   "metadata": {
    "id": "Qx-xYkzf8D52"
   },
   "outputs": [],
   "source": [
    "test_data = scaled_data[training_data_len-input_data_length: , :]\n",
    "x_test = []\n",
    "y_test = dataset[training_data_len: , : ]"
   ]
  },
  {
   "cell_type": "code",
   "execution_count": 21,
   "id": "u8k8HO2i8ET4",
   "metadata": {
    "colab": {
     "base_uri": "https://localhost:8080/",
     "height": 49,
     "referenced_widgets": [
      "ce19539d99d6496f91da7d81036d3f72",
      "5e43cab92c674b9e889b139d354ff550",
      "cbbdcc55fc10459e8a57da6ddc576bcb"
     ]
    },
    "id": "u8k8HO2i8ET4",
    "outputId": "1637625e-5b6f-43bd-9646-26bb400cb70b"
   },
   "outputs": [
    {
     "data": {
      "application/vnd.jupyter.widget-view+json": {
       "model_id": "e80b80e5ae0d45ea9262a901b909a690",
       "version_major": 2,
       "version_minor": 0
      },
      "text/plain": [
       "SelectionSlider(options=(Timestamp('2019-06-18 00:00:00'), Timestamp('2019-06-19 00:00:00'), Timestamp('2019-0…"
      ]
     },
     "metadata": {},
     "output_type": "display_data"
    }
   ],
   "source": [
    "slider_date=widgets.SelectionSlider(options=data['Close'][training_data_len:len(data)].keys())\n",
    "display(slider_date)"
   ]
  },
  {
   "cell_type": "code",
   "execution_count": 23,
   "id": "VIbDRsZXBROH",
   "metadata": {
    "colab": {
     "base_uri": "https://localhost:8080/",
     "height": 818
    },
    "id": "VIbDRsZXBROH",
    "outputId": "34534878-50c1-4637-89c1-eabed127f781"
   },
   "outputs": [
    {
     "name": "stderr",
     "output_type": "stream",
     "text": [
      "C:\\Users\\joe_b\\anaconda3\\lib\\site-packages\\pandas\\core\\indexing.py:692: SettingWithCopyWarning: \n",
      "A value is trying to be set on a copy of a slice from a DataFrame\n",
      "\n",
      "See the caveats in the documentation: https://pandas.pydata.org/pandas-docs/stable/user_guide/indexing.html#returning-a-view-versus-a-copy\n",
      "  iloc._setitem_with_indexer(indexer, value, self.name)\n",
      "<ipython-input-23-74c4ec8e42b6>:31: SettingWithCopyWarning: \n",
      "A value is trying to be set on a copy of a slice from a DataFrame.\n",
      "Try using .loc[row_indexer,col_indexer] = value instead\n",
      "\n",
      "See the caveats in the documentation: https://pandas.pydata.org/pandas-docs/stable/user_guide/indexing.html#returning-a-view-versus-a-copy\n",
      "  valid2['Predictions'] = predictions5d['Close']\n"
     ]
    },
    {
     "data": {
      "text/plain": [
       "<matplotlib.legend.Legend at 0x271639018e0>"
      ]
     },
     "execution_count": 23,
     "metadata": {},
     "output_type": "execute_result"
    },
    {
     "data": {
      "image/png": "[encoded data removed]",
      "text/plain": [
       "<Figure size 1440x864 with 1 Axes>"
      ]
     },
     "metadata": {
      "needs_background": "light"
     },
     "output_type": "display_data"
    }
   ],
   "source": [
    "#set up predictions with dates\n",
    "predictions5d = data[training_data_len:].copy()\n",
    "prediction = []\n",
    "\n",
    "#removes data from predictions leaving dates\n",
    "for i in range(0,predictions5d.size):\n",
    "  predictions5d['Close'][i] = None\n",
    "\n",
    "start_pos = input_data_length + slider_date.index + 1\n",
    "stop_pos = input_data_length + slider_date.index + 6\n",
    "x_test =[]\n",
    "x_test.append(test_data[start_pos - input_data_length:start_pos,0])\n",
    "\n",
    "for i in range(input_data_length + slider_date.index + 1,input_data_length + slider_date.index + 6):\n",
    "  x_test_data = x_test.copy()\n",
    "  x_test_data = np.array(x_test_data)\n",
    "  x_test_data = np.reshape(x_test_data, (x_test_data.shape[0], x_test_data.shape[1], 1))\n",
    "  prediction.append(model.predict(x_test_data)[0])\n",
    "  x_test[0] = x_test[0][1:]\n",
    "  x_test[0] = np.append(x_test[0], model.predict(x_test_data)[0])\n",
    "\n",
    "valid2 = data[training_data_len + start_pos - 50 - input_data_length:training_data_len + stop_pos - input_data_length]\n",
    "prediction = scaler.inverse_transform(prediction)\n",
    "for i in range(slider_date.index + 1,slider_date.index + 6):\n",
    "  if(i>=predictions5d.size):\n",
    "    predictions5d.loc[pd.to_datetime(predictions5d.index[i-1]) + timedelta(days=1)]= [None]\n",
    "    valid2.loc[pd.to_datetime(predictions5d.index[i-1]) + timedelta(days=1)] = [None]\n",
    "  predictions5d['Close'][i]=prediction[i-slider_date.index -1]\n",
    "\n",
    "\n",
    "valid2['Predictions'] = predictions5d['Close']\n",
    "plt.figure(figsize=(20,12))\n",
    "plt.title('model')\n",
    "plt.xlabel('')\n",
    "plt.ylabel('')\n",
    "plt.plot(valid2[['Close','Predictions']])\n",
    "plt.legend(['Testing', 'Predictions'])"
   ]
  },
  {
   "cell_type": "code",
   "execution_count": null,
   "id": "0d966067",
   "metadata": {},
   "outputs": [],
   "source": []
  }
 ],
 "metadata": {
  "colab": {
   "collapsed_sections": [],
   "name": "c964.ipynb",
   "provenance": []
  },
  "kernelspec": {
   "display_name": "Python 3",
   "language": "python",
   "name": "python3"
  },
  "language_info": {
   "codemirror_mode": {
    "name": "ipython",
    "version": 3
   },
   "file_extension": ".py",
   "mimetype": "text/x-python",
   "name": "python",
   "nbconvert_exporter": "python",
   "pygments_lexer": "ipython3",
   "version": "3.8.8"
  },
  "widgets": {
   "application/vnd.jupyter.widget-state+json": {
    "084577c5bbc54c8ca7928338fbb965f1": {
     "model_module": "@jupyter-widgets/controls",
     "model_module_version": "1.5.0",
     "model_name": "SliderStyleModel",
     "state": {
      "_model_module": "@jupyter-widgets/controls",
      "_model_module_version": "1.5.0",
      "_model_name": "SliderStyleModel",
      "_view_count": null,
      "_view_module": "@jupyter-widgets/base",
      "_view_module_version": "1.2.0",
      "_view_name": "StyleView",
      "description_width": "",
      "handle_color": null
     }
    },
    "18d2b4f775124753ad209f409acf7487": {
     "model_module": "@jupyter-widgets/base",
     "model_module_version": "1.2.0",
     "model_name": "LayoutModel",
     "state": {
      "_model_module": "@jupyter-widgets/base",
      "_model_module_version": "1.2.0",
      "_model_name": "LayoutModel",
      "_view_count": null,
      "_view_module": "@jupyter-widgets/base",
      "_view_module_version": "1.2.0",
      "_view_name": "LayoutView",
      "align_content": null,
      "align_items": null,
      "align_self": null,
      "border": null,
      "bottom": null,
      "display": null,
      "flex": null,
      "flex_flow": null,
      "grid_area": null,
      "grid_auto_columns": null,
      "grid_auto_flow": null,
      "grid_auto_rows": null,
      "grid_column": null,
      "grid_gap": null,
      "grid_row": null,
      "grid_template_areas": null,
      "grid_template_columns": null,
      "grid_template_rows": null,
      "height": null,
      "justify_content": null,
      "justify_items": null,
      "left": null,
      "margin": null,
      "max_height": null,
      "max_width": null,
      "min_height": null,
      "min_width": null,
      "object_fit": null,
      "object_position": null,
      "order": null,
      "overflow": null,
      "overflow_x": null,
      "overflow_y": null,
      "padding": null,
      "right": null,
      "top": null,
      "visibility": null,
      "width": null
     }
    },
    "1d8880abfe4f46d488bf8988a180d369": {
     "model_module": "@jupyter-widgets/controls",
     "model_module_version": "1.5.0",
     "model_name": "IntSliderModel",
     "state": {
      "_dom_classes": [],
      "_model_module": "@jupyter-widgets/controls",
      "_model_module_version": "1.5.0",
      "_model_name": "IntSliderModel",
      "_view_count": null,
      "_view_module": "@jupyter-widgets/controls",
      "_view_module_version": "1.5.0",
      "_view_name": "IntSliderView",
      "continuous_update": true,
      "description": "",
      "description_tooltip": null,
      "disabled": false,
      "layout": "IPY_MODEL_6465513cb79d46ef80efb59a1a223421",
      "max": 120,
      "min": 10,
      "orientation": "horizontal",
      "readout": true,
      "readout_format": "d",
      "step": 10,
      "style": "IPY_MODEL_084577c5bbc54c8ca7928338fbb965f1",
      "value": 10
     }
    },
    "4440b0f08d4140dc8f18b6a0c2665b42": {
     "model_module": "@jupyter-widgets/controls",
     "model_module_version": "1.5.0",
     "model_name": "IntSliderModel",
     "state": {
      "_dom_classes": [],
      "_model_module": "@jupyter-widgets/controls",
      "_model_module_version": "1.5.0",
      "_model_name": "IntSliderModel",
      "_view_count": null,
      "_view_module": "@jupyter-widgets/controls",
      "_view_module_version": "1.5.0",
      "_view_name": "IntSliderView",
      "continuous_update": true,
      "description": "",
      "description_tooltip": null,
      "disabled": false,
      "layout": "IPY_MODEL_18d2b4f775124753ad209f409acf7487",
      "max": 2020,
      "min": 2000,
      "orientation": "horizontal",
      "readout": true,
      "readout_format": "d",
      "step": 1,
      "style": "IPY_MODEL_d2581158f9234959a52ef883768b7359",
      "value": 2010
     }
    },
    "5e43cab92c674b9e889b139d354ff550": {
     "model_module": "@jupyter-widgets/controls",
     "model_module_version": "1.5.0",
     "model_name": "DescriptionStyleModel",
     "state": {
      "_model_module": "@jupyter-widgets/controls",
      "_model_module_version": "1.5.0",
      "_model_name": "DescriptionStyleModel",
      "_view_count": null,
      "_view_module": "@jupyter-widgets/base",
      "_view_module_version": "1.2.0",
      "_view_name": "StyleView",
      "description_width": ""
     }
    },
    "6465513cb79d46ef80efb59a1a223421": {
     "model_module": "@jupyter-widgets/base",
     "model_module_version": "1.2.0",
     "model_name": "LayoutModel",
     "state": {
      "_model_module": "@jupyter-widgets/base",
      "_model_module_version": "1.2.0",
      "_model_name": "LayoutModel",
      "_view_count": null,
      "_view_module": "@jupyter-widgets/base",
      "_view_module_version": "1.2.0",
      "_view_name": "LayoutView",
      "align_content": null,
      "align_items": null,
      "align_self": null,
      "border": null,
      "bottom": null,
      "display": null,
      "flex": null,
      "flex_flow": null,
      "grid_area": null,
      "grid_auto_columns": null,
      "grid_auto_flow": null,
      "grid_auto_rows": null,
      "grid_column": null,
      "grid_gap": null,
      "grid_row": null,
      "grid_template_areas": null,
      "grid_template_columns": null,
      "grid_template_rows": null,
      "height": null,
      "justify_content": null,
      "justify_items": null,
      "left": null,
      "margin": null,
      "max_height": null,
      "max_width": null,
      "min_height": null,
      "min_width": null,
      "object_fit": null,
      "object_position": null,
      "order": null,
      "overflow": null,
      "overflow_x": null,
      "overflow_y": null,
      "padding": null,
      "right": null,
      "top": null,
      "visibility": null,
      "width": null
     }
    },
    "cbbdcc55fc10459e8a57da6ddc576bcb": {
     "model_module": "@jupyter-widgets/base",
     "model_module_version": "1.2.0",
     "model_name": "LayoutModel",
     "state": {
      "_model_module": "@jupyter-widgets/base",
      "_model_module_version": "1.2.0",
      "_model_name": "LayoutModel",
      "_view_count": null,
      "_view_module": "@jupyter-widgets/base",
      "_view_module_version": "1.2.0",
      "_view_name": "LayoutView",
      "align_content": null,
      "align_items": null,
      "align_self": null,
      "border": null,
      "bottom": null,
      "display": null,
      "flex": null,
      "flex_flow": null,
      "grid_area": null,
      "grid_auto_columns": null,
      "grid_auto_flow": null,
      "grid_auto_rows": null,
      "grid_column": null,
      "grid_gap": null,
      "grid_row": null,
      "grid_template_areas": null,
      "grid_template_columns": null,
      "grid_template_rows": null,
      "height": null,
      "justify_content": null,
      "justify_items": null,
      "left": null,
      "margin": null,
      "max_height": null,
      "max_width": null,
      "min_height": null,
      "min_width": null,
      "object_fit": null,
      "object_position": null,
      "order": null,
      "overflow": null,
      "overflow_x": null,
      "overflow_y": null,
      "padding": null,
      "right": null,
      "top": null,
      "visibility": null,
      "width": null
     }
    },
    "ce19539d99d6496f91da7d81036d3f72": {
     "model_module": "@jupyter-widgets/controls",
     "model_module_version": "1.5.0",
     "model_name": "SelectionSliderModel",
     "state": {
      "_dom_classes": [],
      "_model_module": "@jupyter-widgets/controls",
      "_model_module_version": "1.5.0",
      "_model_name": "SelectionSliderModel",
      "_options_labels": [
       "2019-06-18 00:00:00",
       "2019-06-19 00:00:00",
       "2019-06-20 00:00:00",
       "2019-06-21 00:00:00",
       "2019-06-24 00:00:00",
       "2019-06-25 00:00:00",
       "2019-06-26 00:00:00",
       "2019-06-27 00:00:00",
       "2019-06-28 00:00:00",
       "2019-07-01 00:00:00",
       "2019-07-02 00:00:00",
       "2019-07-03 00:00:00",
       "2019-07-05 00:00:00",
       "2019-07-08 00:00:00",
       "2019-07-09 00:00:00",
       "2019-07-10 00:00:00",
       "2019-07-11 00:00:00",
       "2019-07-12 00:00:00",
       "2019-07-15 00:00:00",
       "2019-07-16 00:00:00",
       "2019-07-17 00:00:00",
       "2019-07-18 00:00:00",
       "2019-07-19 00:00:00",
       "2019-07-22 00:00:00",
       "2019-07-23 00:00:00",
       "2019-07-24 00:00:00",
       "2019-07-25 00:00:00",
       "2019-07-26 00:00:00",
       "2019-07-29 00:00:00",
       "2019-07-30 00:00:00",
       "2019-07-31 00:00:00",
       "2019-08-01 00:00:00",
       "2019-08-02 00:00:00",
       "2019-08-05 00:00:00",
       "2019-08-06 00:00:00",
       "2019-08-07 00:00:00",
       "2019-08-08 00:00:00",
       "2019-08-09 00:00:00",
       "2019-08-12 00:00:00",
       "2019-08-13 00:00:00",
       "2019-08-14 00:00:00",
       "2019-08-15 00:00:00",
       "2019-08-16 00:00:00",
       "2019-08-19 00:00:00",
       "2019-08-20 00:00:00",
       "2019-08-21 00:00:00",
       "2019-08-22 00:00:00",
       "2019-08-23 00:00:00",
       "2019-08-26 00:00:00",
       "2019-08-27 00:00:00",
       "2019-08-28 00:00:00",
       "2019-08-29 00:00:00",
       "2019-08-30 00:00:00",
       "2019-09-03 00:00:00",
       "2019-09-04 00:00:00",
       "2019-09-05 00:00:00",
       "2019-09-06 00:00:00",
       "2019-09-09 00:00:00",
       "2019-09-10 00:00:00",
       "2019-09-11 00:00:00",
       "2019-09-12 00:00:00",
       "2019-09-13 00:00:00",
       "2019-09-16 00:00:00",
       "2019-09-17 00:00:00",
       "2019-09-18 00:00:00",
       "2019-09-19 00:00:00",
       "2019-09-20 00:00:00",
       "2019-09-23 00:00:00",
       "2019-09-24 00:00:00",
       "2019-09-25 00:00:00",
       "2019-09-26 00:00:00",
       "2019-09-27 00:00:00",
       "2019-09-30 00:00:00",
       "2019-10-01 00:00:00",
       "2019-10-02 00:00:00",
       "2019-10-03 00:00:00",
       "2019-10-04 00:00:00",
       "2019-10-07 00:00:00",
       "2019-10-08 00:00:00",
       "2019-10-09 00:00:00",
       "2019-10-10 00:00:00",
       "2019-10-11 00:00:00",
       "2019-10-14 00:00:00",
       "2019-10-15 00:00:00",
       "2019-10-16 00:00:00",
       "2019-10-17 00:00:00",
       "2019-10-18 00:00:00",
       "2019-10-21 00:00:00",
       "2019-10-22 00:00:00",
       "2019-10-23 00:00:00",
       "2019-10-24 00:00:00",
       "2019-10-25 00:00:00",
       "2019-10-28 00:00:00",
       "2019-10-29 00:00:00",
       "2019-10-30 00:00:00",
       "2019-10-31 00:00:00",
       "2019-11-01 00:00:00",
       "2019-11-04 00:00:00",
       "2019-11-05 00:00:00",
       "2019-11-06 00:00:00",
       "2019-11-07 00:00:00",
       "2019-11-08 00:00:00",
       "2019-11-11 00:00:00",
       "2019-11-12 00:00:00",
       "2019-11-13 00:00:00",
       "2019-11-14 00:00:00",
       "2019-11-15 00:00:00",
       "2019-11-18 00:00:00",
       "2019-11-19 00:00:00",
       "2019-11-20 00:00:00",
       "2019-11-21 00:00:00",
       "2019-11-22 00:00:00",
       "2019-11-25 00:00:00",
       "2019-11-26 00:00:00",
       "2019-11-27 00:00:00",
       "2019-11-29 00:00:00",
       "2019-12-02 00:00:00",
       "2019-12-03 00:00:00",
       "2019-12-04 00:00:00",
       "2019-12-05 00:00:00",
       "2019-12-06 00:00:00",
       "2019-12-09 00:00:00",
       "2019-12-10 00:00:00",
       "2019-12-11 00:00:00",
       "2019-12-12 00:00:00",
       "2019-12-13 00:00:00",
       "2019-12-16 00:00:00",
       "2019-12-17 00:00:00",
       "2019-12-18 00:00:00",
       "2019-12-19 00:00:00",
       "2019-12-20 00:00:00",
       "2019-12-23 00:00:00",
       "2019-12-24 00:00:00",
       "2019-12-26 00:00:00",
       "2019-12-27 00:00:00",
       "2019-12-30 00:00:00",
       "2019-12-31 00:00:00",
       "2020-01-02 00:00:00",
       "2020-01-03 00:00:00",
       "2020-01-06 00:00:00",
       "2020-01-07 00:00:00",
       "2020-01-08 00:00:00",
       "2020-01-09 00:00:00",
       "2020-01-10 00:00:00",
       "2020-01-13 00:00:00",
       "2020-01-14 00:00:00",
       "2020-01-15 00:00:00",
       "2020-01-16 00:00:00",
       "2020-01-17 00:00:00",
       "2020-01-21 00:00:00",
       "2020-01-22 00:00:00",
       "2020-01-23 00:00:00",
       "2020-01-24 00:00:00",
       "2020-01-27 00:00:00",
       "2020-01-28 00:00:00",
       "2020-01-29 00:00:00",
       "2020-01-30 00:00:00",
       "2020-01-31 00:00:00",
       "2020-02-03 00:00:00",
       "2020-02-04 00:00:00",
       "2020-02-05 00:00:00",
       "2020-02-06 00:00:00",
       "2020-02-07 00:00:00",
       "2020-02-10 00:00:00",
       "2020-02-11 00:00:00",
       "2020-02-12 00:00:00",
       "2020-02-13 00:00:00",
       "2020-02-14 00:00:00",
       "2020-02-18 00:00:00",
       "2020-02-19 00:00:00",
       "2020-02-20 00:00:00",
       "2020-02-21 00:00:00",
       "2020-02-24 00:00:00",
       "2020-02-25 00:00:00",
       "2020-02-26 00:00:00",
       "2020-02-27 00:00:00",
       "2020-02-28 00:00:00",
       "2020-03-02 00:00:00",
       "2020-03-03 00:00:00",
       "2020-03-04 00:00:00",
       "2020-03-05 00:00:00",
       "2020-03-06 00:00:00",
       "2020-03-09 00:00:00",
       "2020-03-10 00:00:00",
       "2020-03-11 00:00:00",
       "2020-03-12 00:00:00",
       "2020-03-13 00:00:00",
       "2020-03-16 00:00:00",
       "2020-03-17 00:00:00",
       "2020-03-18 00:00:00",
       "2020-03-19 00:00:00",
       "2020-03-20 00:00:00",
       "2020-03-23 00:00:00",
       "2020-03-24 00:00:00",
       "2020-03-25 00:00:00",
       "2020-03-26 00:00:00",
       "2020-03-27 00:00:00",
       "2020-03-30 00:00:00",
       "2020-03-31 00:00:00",
       "2020-04-01 00:00:00",
       "2020-04-02 00:00:00",
       "2020-04-03 00:00:00",
       "2020-04-06 00:00:00",
       "2020-04-07 00:00:00",
       "2020-04-08 00:00:00",
       "2020-04-09 00:00:00",
       "2020-04-13 00:00:00",
       "2020-04-14 00:00:00",
       "2020-04-15 00:00:00",
       "2020-04-16 00:00:00",
       "2020-04-17 00:00:00",
       "2020-04-20 00:00:00",
       "2020-04-21 00:00:00",
       "2020-04-22 00:00:00",
       "2020-04-23 00:00:00",
       "2020-04-24 00:00:00",
       "2020-04-27 00:00:00",
       "2020-04-28 00:00:00",
       "2020-04-29 00:00:00",
       "2020-04-30 00:00:00",
       "2020-05-01 00:00:00",
       "2020-05-04 00:00:00",
       "2020-05-05 00:00:00",
       "2020-05-06 00:00:00",
       "2020-05-07 00:00:00",
       "2020-05-08 00:00:00",
       "2020-05-11 00:00:00",
       "2020-05-12 00:00:00",
       "2020-05-13 00:00:00",
       "2020-05-14 00:00:00",
       "2020-05-15 00:00:00",
       "2020-05-18 00:00:00",
       "2020-05-19 00:00:00",
       "2020-05-20 00:00:00",
       "2020-05-21 00:00:00",
       "2020-05-22 00:00:00",
       "2020-05-26 00:00:00",
       "2020-05-27 00:00:00",
       "2020-05-28 00:00:00",
       "2020-05-29 00:00:00",
       "2020-06-01 00:00:00",
       "2020-06-02 00:00:00",
       "2020-06-03 00:00:00",
       "2020-06-04 00:00:00",
       "2020-06-05 00:00:00",
       "2020-06-08 00:00:00",
       "2020-06-09 00:00:00",
       "2020-06-10 00:00:00",
       "2020-06-11 00:00:00",
       "2020-06-12 00:00:00",
       "2020-06-15 00:00:00",
       "2020-06-16 00:00:00",
       "2020-06-17 00:00:00",
       "2020-06-18 00:00:00",
       "2020-06-19 00:00:00",
       "2020-06-22 00:00:00",
       "2020-06-23 00:00:00",
       "2020-06-24 00:00:00",
       "2020-06-25 00:00:00",
       "2020-06-26 00:00:00",
       "2020-06-29 00:00:00",
       "2020-06-30 00:00:00",
       "2020-07-01 00:00:00",
       "2020-07-02 00:00:00",
       "2020-07-06 00:00:00",
       "2020-07-07 00:00:00",
       "2020-07-08 00:00:00",
       "2020-07-09 00:00:00",
       "2020-07-10 00:00:00",
       "2020-07-13 00:00:00",
       "2020-07-14 00:00:00",
       "2020-07-15 00:00:00",
       "2020-07-16 00:00:00",
       "2020-07-17 00:00:00",
       "2020-07-20 00:00:00",
       "2020-07-21 00:00:00",
       "2020-07-22 00:00:00",
       "2020-07-23 00:00:00",
       "2020-07-24 00:00:00",
       "2020-07-27 00:00:00",
       "2020-07-28 00:00:00",
       "2020-07-29 00:00:00",
       "2020-07-30 00:00:00",
       "2020-07-31 00:00:00",
       "2020-08-03 00:00:00",
       "2020-08-04 00:00:00",
       "2020-08-05 00:00:00",
       "2020-08-06 00:00:00",
       "2020-08-07 00:00:00",
       "2020-08-10 00:00:00",
       "2020-08-11 00:00:00",
       "2020-08-12 00:00:00",
       "2020-08-13 00:00:00",
       "2020-08-14 00:00:00",
       "2020-08-17 00:00:00",
       "2020-08-18 00:00:00",
       "2020-08-19 00:00:00",
       "2020-08-20 00:00:00",
       "2020-08-21 00:00:00",
       "2020-08-24 00:00:00",
       "2020-08-25 00:00:00",
       "2020-08-26 00:00:00",
       "2020-08-27 00:00:00",
       "2020-08-28 00:00:00",
       "2020-08-31 00:00:00",
       "2020-09-01 00:00:00",
       "2020-09-02 00:00:00",
       "2020-09-03 00:00:00",
       "2020-09-04 00:00:00",
       "2020-09-08 00:00:00",
       "2020-09-09 00:00:00",
       "2020-09-10 00:00:00",
       "2020-09-11 00:00:00",
       "2020-09-14 00:00:00",
       "2020-09-15 00:00:00",
       "2020-09-16 00:00:00",
       "2020-09-17 00:00:00",
       "2020-09-18 00:00:00",
       "2020-09-21 00:00:00",
       "2020-09-22 00:00:00",
       "2020-09-23 00:00:00",
       "2020-09-24 00:00:00",
       "2020-09-25 00:00:00",
       "2020-09-28 00:00:00",
       "2020-09-29 00:00:00",
       "2020-09-30 00:00:00",
       "2020-10-01 00:00:00",
       "2020-10-02 00:00:00",
       "2020-10-05 00:00:00",
       "2020-10-06 00:00:00",
       "2020-10-07 00:00:00",
       "2020-10-08 00:00:00",
       "2020-10-09 00:00:00",
       "2020-10-12 00:00:00",
       "2020-10-13 00:00:00",
       "2020-10-14 00:00:00",
       "2020-10-15 00:00:00",
       "2020-10-16 00:00:00",
       "2020-10-19 00:00:00",
       "2020-10-20 00:00:00",
       "2020-10-21 00:00:00",
       "2020-10-22 00:00:00",
       "2020-10-23 00:00:00",
       "2020-10-26 00:00:00",
       "2020-10-27 00:00:00",
       "2020-10-28 00:00:00",
       "2020-10-29 00:00:00",
       "2020-10-30 00:00:00",
       "2020-11-02 00:00:00",
       "2020-11-03 00:00:00",
       "2020-11-04 00:00:00",
       "2020-11-05 00:00:00",
       "2020-11-06 00:00:00",
       "2020-11-09 00:00:00",
       "2020-11-10 00:00:00",
       "2020-11-11 00:00:00",
       "2020-11-12 00:00:00",
       "2020-11-13 00:00:00",
       "2020-11-16 00:00:00",
       "2020-11-17 00:00:00",
       "2020-11-18 00:00:00",
       "2020-11-19 00:00:00",
       "2020-11-20 00:00:00",
       "2020-11-23 00:00:00",
       "2020-11-24 00:00:00",
       "2020-11-25 00:00:00",
       "2020-11-27 00:00:00",
       "2020-11-30 00:00:00",
       "2020-12-01 00:00:00",
       "2020-12-02 00:00:00",
       "2020-12-03 00:00:00",
       "2020-12-04 00:00:00",
       "2020-12-07 00:00:00",
       "2020-12-08 00:00:00",
       "2020-12-09 00:00:00",
       "2020-12-10 00:00:00",
       "2020-12-11 00:00:00",
       "2020-12-14 00:00:00",
       "2020-12-15 00:00:00",
       "2020-12-16 00:00:00",
       "2020-12-17 00:00:00",
       "2020-12-18 00:00:00",
       "2020-12-21 00:00:00",
       "2020-12-22 00:00:00",
       "2020-12-23 00:00:00",
       "2020-12-24 00:00:00",
       "2020-12-28 00:00:00",
       "2020-12-29 00:00:00",
       "2020-12-30 00:00:00",
       "2020-12-31 00:00:00",
       "2021-01-04 00:00:00",
       "2021-01-05 00:00:00",
       "2021-01-06 00:00:00",
       "2021-01-07 00:00:00",
       "2021-01-08 00:00:00",
       "2021-01-11 00:00:00",
       "2021-01-12 00:00:00",
       "2021-01-13 00:00:00",
       "2021-01-14 00:00:00",
       "2021-01-15 00:00:00",
       "2021-01-19 00:00:00",
       "2021-01-20 00:00:00",
       "2021-01-21 00:00:00",
       "2021-01-22 00:00:00",
       "2021-01-25 00:00:00",
       "2021-01-26 00:00:00",
       "2021-01-27 00:00:00",
       "2021-01-28 00:00:00",
       "2021-01-29 00:00:00",
       "2021-02-01 00:00:00",
       "2021-02-02 00:00:00",
       "2021-02-03 00:00:00",
       "2021-02-04 00:00:00",
       "2021-02-05 00:00:00",
       "2021-02-08 00:00:00",
       "2021-02-09 00:00:00",
       "2021-02-10 00:00:00",
       "2021-02-11 00:00:00",
       "2021-02-12 00:00:00",
       "2021-02-16 00:00:00",
       "2021-02-17 00:00:00",
       "2021-02-18 00:00:00",
       "2021-02-19 00:00:00",
       "2021-02-22 00:00:00",
       "2021-02-23 00:00:00",
       "2021-02-24 00:00:00",
       "2021-02-25 00:00:00",
       "2021-02-26 00:00:00",
       "2021-03-01 00:00:00",
       "2021-03-02 00:00:00",
       "2021-03-03 00:00:00",
       "2021-03-04 00:00:00",
       "2021-03-05 00:00:00",
       "2021-03-08 00:00:00",
       "2021-03-09 00:00:00",
       "2021-03-10 00:00:00",
       "2021-03-11 00:00:00",
       "2021-03-12 00:00:00",
       "2021-03-15 00:00:00",
       "2021-03-16 00:00:00",
       "2021-03-17 00:00:00",
       "2021-03-18 00:00:00",
       "2021-03-19 00:00:00",
       "2021-03-22 00:00:00",
       "2021-03-23 00:00:00",
       "2021-03-24 00:00:00",
       "2021-03-25 00:00:00",
       "2021-03-26 00:00:00",
       "2021-03-29 00:00:00",
       "2021-03-30 00:00:00",
       "2021-03-31 00:00:00",
       "2021-04-01 00:00:00",
       "2021-04-05 00:00:00",
       "2021-04-06 00:00:00",
       "2021-04-07 00:00:00",
       "2021-04-08 00:00:00",
       "2021-04-09 00:00:00",
       "2021-04-12 00:00:00",
       "2021-04-13 00:00:00",
       "2021-04-14 00:00:00",
       "2021-04-15 00:00:00",
       "2021-04-16 00:00:00",
       "2021-04-19 00:00:00",
       "2021-04-20 00:00:00",
       "2021-04-21 00:00:00",
       "2021-04-22 00:00:00",
       "2021-04-23 00:00:00",
       "2021-04-26 00:00:00",
       "2021-04-27 00:00:00",
       "2021-04-28 00:00:00",
       "2021-04-29 00:00:00",
       "2021-04-30 00:00:00",
       "2021-05-03 00:00:00",
       "2021-05-04 00:00:00",
       "2021-05-05 00:00:00",
       "2021-05-06 00:00:00",
       "2021-05-07 00:00:00",
       "2021-05-10 00:00:00",
       "2021-05-11 00:00:00",
       "2021-05-12 00:00:00",
       "2021-05-13 00:00:00",
       "2021-05-14 00:00:00",
       "2021-05-17 00:00:00",
       "2021-05-18 00:00:00",
       "2021-05-19 00:00:00",
       "2021-05-20 00:00:00",
       "2021-05-21 00:00:00",
       "2021-05-24 00:00:00",
       "2021-05-25 00:00:00",
       "2021-05-26 00:00:00",
       "2021-05-27 00:00:00",
       "2021-05-28 00:00:00",
       "2021-06-01 00:00:00",
       "2021-06-02 00:00:00",
       "2021-06-03 00:00:00",
       "2021-06-04 00:00:00",
       "2021-06-07 00:00:00",
       "2021-06-08 00:00:00",
       "2021-06-09 00:00:00",
       "2021-06-10 00:00:00",
       "2021-06-11 00:00:00",
       "2021-06-14 00:00:00",
       "2021-06-15 00:00:00",
       "2021-06-16 00:00:00",
       "2021-06-17 00:00:00",
       "2021-06-18 00:00:00",
       "2021-06-21 00:00:00",
       "2021-06-22 00:00:00",
       "2021-06-23 00:00:00",
       "2021-06-24 00:00:00",
       "2021-06-25 00:00:00",
       "2021-06-28 00:00:00",
       "2021-06-29 00:00:00",
       "2021-06-30 00:00:00",
       "2021-07-01 00:00:00",
       "2021-07-02 00:00:00",
       "2021-07-06 00:00:00",
       "2021-07-07 00:00:00",
       "2021-07-08 00:00:00",
       "2021-07-09 00:00:00",
       "2021-07-12 00:00:00",
       "2021-07-13 00:00:00",
       "2021-07-14 00:00:00",
       "2021-07-15 00:00:00",
       "2021-07-16 00:00:00",
       "2021-07-19 00:00:00",
       "2021-07-20 00:00:00",
       "2021-07-21 00:00:00",
       "2021-07-22 00:00:00",
       "2021-07-23 00:00:00",
       "2021-07-26 00:00:00",
       "2021-07-27 00:00:00",
       "2021-07-28 00:00:00",
       "2021-07-29 00:00:00",
       "2021-07-30 00:00:00",
       "2021-08-02 00:00:00",
       "2021-08-03 00:00:00",
       "2021-08-04 00:00:00",
       "2021-08-05 00:00:00",
       "2021-08-06 00:00:00",
       "2021-08-09 00:00:00",
       "2021-08-10 00:00:00",
       "2021-08-11 00:00:00",
       "2021-08-12 00:00:00",
       "2021-08-13 00:00:00",
       "2021-08-16 00:00:00",
       "2021-08-17 00:00:00",
       "2021-08-18 00:00:00",
       "2021-08-19 00:00:00",
       "2021-08-20 00:00:00",
       "2021-08-23 00:00:00",
       "2021-08-24 00:00:00",
       "2021-08-25 00:00:00",
       "2021-08-26 00:00:00",
       "2021-08-27 00:00:00",
       "2021-08-30 00:00:00",
       "2021-08-31 00:00:00",
       "2021-09-01 00:00:00",
       "2021-09-02 00:00:00",
       "2021-09-03 00:00:00",
       "2021-09-07 00:00:00",
       "2021-09-08 00:00:00",
       "2021-09-09 00:00:00",
       "2021-09-10 00:00:00",
       "2021-09-13 00:00:00",
       "2021-09-14 00:00:00",
       "2021-09-15 00:00:00",
       "2021-09-16 00:00:00",
       "2021-09-17 00:00:00",
       "2021-09-20 00:00:00",
       "2021-09-21 00:00:00",
       "2021-09-22 00:00:00",
       "2021-09-23 00:00:00",
       "2021-09-24 00:00:00",
       "2021-09-27 00:00:00",
       "2021-09-28 00:00:00",
       "2021-09-29 00:00:00",
       "2021-09-30 00:00:00",
       "2021-10-01 00:00:00",
       "2021-10-04 00:00:00",
       "2021-10-05 00:00:00",
       "2021-10-06 00:00:00",
       "2021-10-07 00:00:00",
       "2021-10-08 00:00:00",
       "2021-10-11 00:00:00",
       "2021-10-12 00:00:00",
       "2021-10-13 00:00:00",
       "2021-10-14 00:00:00",
       "2021-10-15 00:00:00",
       "2021-10-18 00:00:00",
       "2021-10-19 00:00:00",
       "2021-10-20 00:00:00",
       "2021-10-21 00:00:00",
       "2021-10-22 00:00:00"
      ],
      "_view_count": null,
      "_view_module": "@jupyter-widgets/controls",
      "_view_module_version": "1.5.0",
      "_view_name": "SelectionSliderView",
      "continuous_update": true,
      "description": "",
      "description_tooltip": null,
      "disabled": false,
      "index": 0,
      "layout": "IPY_MODEL_cbbdcc55fc10459e8a57da6ddc576bcb",
      "orientation": "horizontal",
      "readout": true,
      "style": "IPY_MODEL_5e43cab92c674b9e889b139d354ff550"
     }
    },
    "d2581158f9234959a52ef883768b7359": {
     "model_module": "@jupyter-widgets/controls",
     "model_module_version": "1.5.0",
     "model_name": "SliderStyleModel",
     "state": {
      "_model_module": "@jupyter-widgets/controls",
      "_model_module_version": "1.5.0",
      "_model_name": "SliderStyleModel",
      "_view_count": null,
      "_view_module": "@jupyter-widgets/base",
      "_view_module_version": "1.2.0",
      "_view_name": "StyleView",
      "description_width": "",
      "handle_color": null
     }
    }
   }
  }
 },
 "nbformat": 4,
 "nbformat_minor": 5
}
